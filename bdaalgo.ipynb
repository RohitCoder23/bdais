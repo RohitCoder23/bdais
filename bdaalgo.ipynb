{
  "cells": [
    {
      "cell_type": "markdown",
      "metadata": {
        "id": "0UJLxiA-49NJ"
      },
      "source": [
        "## *Data Preprocessing*"
      ]
    },
    {
      "cell_type": "code",
      "execution_count": 28,
      "metadata": {
        "id": "Iq8HlrgH49NN"
      },
      "outputs": [],
      "source": [
        "import numpy as np\n",
        "import pandas as pd\n",
        "import matplotlib.pyplot as plt\n",
        "import seaborn as sns\n",
        "from sklearn.preprocessing import StandardScaler\n",
        "from sklearn.model_selection import train_test_split\n",
        "from sklearn import metrics\n",
        "from sklearn.metrics import accuracy_score \n",
        "from sklearn.metrics import classification_report\n",
        "from sklearn.metrics import confusion_matrix"
      ]
    },
    {
      "cell_type": "code",
      "execution_count": 29,
      "metadata": {
        "colab": {
          "base_uri": "https://localhost:8080/",
          "height": 206
        },
        "id": "pRuVjJIC49Nf",
        "outputId": "66759a51-50a9-4c02-daf4-8ebe3dd2ca5b"
      },
      "outputs": [
        {
          "data": {
            "text/html": [
              "<div>\n",
              "<style scoped>\n",
              "    .dataframe tbody tr th:only-of-type {\n",
              "        vertical-align: middle;\n",
              "    }\n",
              "\n",
              "    .dataframe tbody tr th {\n",
              "        vertical-align: top;\n",
              "    }\n",
              "\n",
              "    .dataframe thead th {\n",
              "        text-align: right;\n",
              "    }\n",
              "</style>\n",
              "<table border=\"1\" class=\"dataframe\">\n",
              "  <thead>\n",
              "    <tr style=\"text-align: right;\">\n",
              "      <th></th>\n",
              "      <th>Pregnancies</th>\n",
              "      <th>Glucose</th>\n",
              "      <th>BloodPressure</th>\n",
              "      <th>SkinThickness</th>\n",
              "      <th>Insulin</th>\n",
              "      <th>BMI</th>\n",
              "      <th>DiabetesPedigreeFunction</th>\n",
              "      <th>Age</th>\n",
              "      <th>Outcome</th>\n",
              "    </tr>\n",
              "  </thead>\n",
              "  <tbody>\n",
              "    <tr>\n",
              "      <th>0</th>\n",
              "      <td>6</td>\n",
              "      <td>148</td>\n",
              "      <td>72</td>\n",
              "      <td>35</td>\n",
              "      <td>0</td>\n",
              "      <td>33.6</td>\n",
              "      <td>0.627</td>\n",
              "      <td>50</td>\n",
              "      <td>1</td>\n",
              "    </tr>\n",
              "    <tr>\n",
              "      <th>1</th>\n",
              "      <td>1</td>\n",
              "      <td>85</td>\n",
              "      <td>66</td>\n",
              "      <td>29</td>\n",
              "      <td>0</td>\n",
              "      <td>26.6</td>\n",
              "      <td>0.351</td>\n",
              "      <td>31</td>\n",
              "      <td>0</td>\n",
              "    </tr>\n",
              "    <tr>\n",
              "      <th>2</th>\n",
              "      <td>8</td>\n",
              "      <td>183</td>\n",
              "      <td>64</td>\n",
              "      <td>0</td>\n",
              "      <td>0</td>\n",
              "      <td>23.3</td>\n",
              "      <td>0.672</td>\n",
              "      <td>32</td>\n",
              "      <td>1</td>\n",
              "    </tr>\n",
              "    <tr>\n",
              "      <th>3</th>\n",
              "      <td>1</td>\n",
              "      <td>89</td>\n",
              "      <td>66</td>\n",
              "      <td>23</td>\n",
              "      <td>94</td>\n",
              "      <td>28.1</td>\n",
              "      <td>0.167</td>\n",
              "      <td>21</td>\n",
              "      <td>0</td>\n",
              "    </tr>\n",
              "    <tr>\n",
              "      <th>4</th>\n",
              "      <td>0</td>\n",
              "      <td>137</td>\n",
              "      <td>40</td>\n",
              "      <td>35</td>\n",
              "      <td>168</td>\n",
              "      <td>43.1</td>\n",
              "      <td>2.288</td>\n",
              "      <td>33</td>\n",
              "      <td>1</td>\n",
              "    </tr>\n",
              "  </tbody>\n",
              "</table>\n",
              "</div>"
            ],
            "text/plain": [
              "   Pregnancies  Glucose  BloodPressure  ...  DiabetesPedigreeFunction  Age  Outcome\n",
              "0            6      148             72  ...                     0.627   50        1\n",
              "1            1       85             66  ...                     0.351   31        0\n",
              "2            8      183             64  ...                     0.672   32        1\n",
              "3            1       89             66  ...                     0.167   21        0\n",
              "4            0      137             40  ...                     2.288   33        1\n",
              "\n",
              "[5 rows x 9 columns]"
            ]
          },
          "execution_count": 29,
          "metadata": {
            "tags": []
          },
          "output_type": "execute_result"
        }
      ],
      "source": [
        "df = pd.read_csv('diabetes.csv')\n",
        "df.head()"
      ]
    },
    {
      "cell_type": "code",
      "execution_count": 30,
      "metadata": {
        "colab": {
          "base_uri": "https://localhost:8080/",
          "height": 35
        },
        "id": "CdczUxHN49Nr",
        "outputId": "09efc776-6d62-47ee-ad65-ba980ad4c14c"
      },
      "outputs": [
        {
          "data": {
            "text/plain": [
              "(768, 9)"
            ]
          },
          "execution_count": 30,
          "metadata": {
            "tags": []
          },
          "output_type": "execute_result"
        }
      ],
      "source": [
        "df.shape"
      ]
    },
    {
      "cell_type": "code",
      "execution_count": 31,
      "metadata": {
        "colab": {
          "base_uri": "https://localhost:8080/",
          "height": 90
        },
        "id": "RNvS-H--49N1",
        "outputId": "c0fcbb6a-bdf8-4c6e-9959-dfcadf495062"
      },
      "outputs": [
        {
          "data": {
            "text/plain": [
              "Outcome\n",
              "0    500\n",
              "1    268\n",
              "dtype: int64"
            ]
          },
          "execution_count": 31,
          "metadata": {
            "tags": []
          },
          "output_type": "execute_result"
        }
      ],
      "source": [
        "df.groupby('Outcome').size()"
      ]
    },
    {
      "cell_type": "code",
      "execution_count": 32,
      "metadata": {
        "colab": {
          "base_uri": "https://localhost:8080/",
          "height": 354
        },
        "id": "cyqP7RLC49N-",
        "outputId": "08902f7e-c042-405d-a5ce-6f0673b243c5"
      },
      "outputs": [
        {
          "name": "stderr",
          "output_type": "stream",
          "text": [
            "/usr/local/lib/python3.6/dist-packages/seaborn/_decorators.py:43: FutureWarning: Pass the following variable as a keyword arg: x. From version 0.12, the only valid positional argument will be `data`, and passing other arguments without an explicit keyword will result in an error or misinterpretation.\n",
            "  FutureWarning\n"
          ]
        },
        {
          "data": {
            "text/plain": [
              "<matplotlib.axes._subplots.AxesSubplot at 0x7fb503ae5748>"
            ]
          },
          "execution_count": 32,
          "metadata": {
            "tags": []
          },
          "output_type": "execute_result"
        },
        {
          "data": {
            "image/png": "[encoded data removed]",
            "text/plain": [
              "<Figure size 432x288 with 1 Axes>"
            ]
          },
          "metadata": {
            "needs_background": "light",
            "tags": []
          },
          "output_type": "display_data"
        }
      ],
      "source": [
        "sns.countplot(df['Outcome'], label=\"Count\")"
      ]
    },
    {
      "cell_type": "code",
      "execution_count": 33,
      "metadata": {
        "colab": {
          "base_uri": "https://localhost:8080/",
          "height": 201
        },
        "id": "OLsx_0iy49OH",
        "outputId": "95bb70e0-45d2-4975-97b5-4be0f2a68829"
      },
      "outputs": [
        {
          "data": {
            "text/plain": [
              "Pregnancies                 0\n",
              "Glucose                     0\n",
              "BloodPressure               0\n",
              "SkinThickness               0\n",
              "Insulin                     0\n",
              "BMI                         0\n",
              "DiabetesPedigreeFunction    0\n",
              "Age                         0\n",
              "Outcome                     0\n",
              "dtype: int64"
            ]
          },
          "execution_count": 33,
          "metadata": {
            "tags": []
          },
          "output_type": "execute_result"
        }
      ],
      "source": [
        "df.isnull().sum()"
      ]
    },
    {
      "cell_type": "code",
      "execution_count": 34,
      "metadata": {
        "colab": {
          "base_uri": "https://localhost:8080/",
          "height": 354
        },
        "id": "F36bxJv349OR",
        "outputId": "047a06c9-6d42-4056-ed0d-061d40ab134b"
      },
      "outputs": [
        {
          "name": "stderr",
          "output_type": "stream",
          "text": [
            "/usr/local/lib/python3.6/dist-packages/seaborn/_decorators.py:43: FutureWarning: Pass the following variable as a keyword arg: x. From version 0.12, the only valid positional argument will be `data`, and passing other arguments without an explicit keyword will result in an error or misinterpretation.\n",
            "  FutureWarning\n"
          ]
        },
        {
          "data": {
            "text/plain": [
              "<matplotlib.axes._subplots.AxesSubplot at 0x7fb503a00f28>"
            ]
          },
          "execution_count": 34,
          "metadata": {
            "tags": []
          },
          "output_type": "execute_result"
        },
        {
          "data": {
            "image/png": "[encoded data removed]",
            "text/plain": [
              "<Figure size 432x288 with 1 Axes>"
            ]
          },
          "metadata": {
            "needs_background": "light",
            "tags": []
          },
          "output_type": "display_data"
        }
      ],
      "source": [
        "sns.countplot(df['Insulin']==0, label=\"Count\")"
      ]
    },
    {
      "cell_type": "code",
      "execution_count": 35,
      "metadata": {
        "colab": {
          "base_uri": "https://localhost:8080/",
          "height": 206
        },
        "id": "gJct7InB49Og",
        "outputId": "137496e3-ed9f-4772-984d-2b89e08450a4"
      },
      "outputs": [
        {
          "data": {
            "text/html": [
              "<div>\n",
              "<style scoped>\n",
              "    .dataframe tbody tr th:only-of-type {\n",
              "        vertical-align: middle;\n",
              "    }\n",
              "\n",
              "    .dataframe tbody tr th {\n",
              "        vertical-align: top;\n",
              "    }\n",
              "\n",
              "    .dataframe thead th {\n",
              "        text-align: right;\n",
              "    }\n",
              "</style>\n",
              "<table border=\"1\" class=\"dataframe\">\n",
              "  <thead>\n",
              "    <tr style=\"text-align: right;\">\n",
              "      <th></th>\n",
              "      <th>Pregnancies</th>\n",
              "      <th>Glucose</th>\n",
              "      <th>BloodPressure</th>\n",
              "      <th>SkinThickness</th>\n",
              "      <th>Insulin</th>\n",
              "      <th>BMI</th>\n",
              "      <th>DiabetesPedigreeFunction</th>\n",
              "      <th>Age</th>\n",
              "    </tr>\n",
              "  </thead>\n",
              "  <tbody>\n",
              "    <tr>\n",
              "      <th>0</th>\n",
              "      <td>6</td>\n",
              "      <td>148</td>\n",
              "      <td>72</td>\n",
              "      <td>35</td>\n",
              "      <td>0</td>\n",
              "      <td>33.6</td>\n",
              "      <td>0.627</td>\n",
              "      <td>50</td>\n",
              "    </tr>\n",
              "    <tr>\n",
              "      <th>1</th>\n",
              "      <td>1</td>\n",
              "      <td>85</td>\n",
              "      <td>66</td>\n",
              "      <td>29</td>\n",
              "      <td>0</td>\n",
              "      <td>26.6</td>\n",
              "      <td>0.351</td>\n",
              "      <td>31</td>\n",
              "    </tr>\n",
              "    <tr>\n",
              "      <th>2</th>\n",
              "      <td>8</td>\n",
              "      <td>183</td>\n",
              "      <td>64</td>\n",
              "      <td>0</td>\n",
              "      <td>0</td>\n",
              "      <td>23.3</td>\n",
              "      <td>0.672</td>\n",
              "      <td>32</td>\n",
              "    </tr>\n",
              "    <tr>\n",
              "      <th>3</th>\n",
              "      <td>1</td>\n",
              "      <td>89</td>\n",
              "      <td>66</td>\n",
              "      <td>23</td>\n",
              "      <td>94</td>\n",
              "      <td>28.1</td>\n",
              "      <td>0.167</td>\n",
              "      <td>21</td>\n",
              "    </tr>\n",
              "    <tr>\n",
              "      <th>4</th>\n",
              "      <td>0</td>\n",
              "      <td>137</td>\n",
              "      <td>40</td>\n",
              "      <td>35</td>\n",
              "      <td>168</td>\n",
              "      <td>43.1</td>\n",
              "      <td>2.288</td>\n",
              "      <td>33</td>\n",
              "    </tr>\n",
              "  </tbody>\n",
              "</table>\n",
              "</div>"
            ],
            "text/plain": [
              "   Pregnancies  Glucose  BloodPressure  ...   BMI  DiabetesPedigreeFunction  Age\n",
              "0            6      148             72  ...  33.6                     0.627   50\n",
              "1            1       85             66  ...  26.6                     0.351   31\n",
              "2            8      183             64  ...  23.3                     0.672   32\n",
              "3            1       89             66  ...  28.1                     0.167   21\n",
              "4            0      137             40  ...  43.1                     2.288   33\n",
              "\n",
              "[5 rows x 8 columns]"
            ]
          },
          "execution_count": 35,
          "metadata": {
            "tags": []
          },
          "output_type": "execute_result"
        }
      ],
      "source": [
        "x = df.iloc[:,0:8]\n",
        "y = df.Outcome\n",
        "x.head()"
      ]
    },
    {
      "cell_type": "code",
      "execution_count": 36,
      "metadata": {
        "id": "8NFPHpMq49On"
      },
      "outputs": [],
      "source": [
        "scaler = StandardScaler()\n",
        "x = scaler.fit_transform(x)"
      ]
    },
    {
      "cell_type": "code",
      "execution_count": 37,
      "metadata": {
        "id": "yNoKS2X849Ou"
      },
      "outputs": [],
      "source": [
        "x_train, x_test, y_train, y_test = train_test_split(x, y, test_size=0.2, random_state=42)"
      ]
    },
    {
      "cell_type": "markdown",
      "metadata": {
        "id": "nYuM_yfT49O1"
      },
      "source": [
        "## *Random Forest*"
      ]
    },
    {
      "cell_type": "code",
      "execution_count": 38,
      "metadata": {
        "id": "mHX-uCWl49O2"
      },
      "outputs": [],
      "source": [
        "from sklearn.ensemble import RandomForestClassifier"
      ]
    },
    {
      "cell_type": "code",
      "execution_count": 39,
      "metadata": {
        "colab": {
          "base_uri": "https://localhost:8080/",
          "height": 164
        },
        "id": "TgNpISmm49O9",
        "outputId": "ad496709-8c81-4d2d-cdc9-c4394c7bf758"
      },
      "outputs": [
        {
          "data": {
            "text/plain": [
              "RandomForestClassifier(bootstrap=True, ccp_alpha=0.0, class_weight=None,\n",
              "                       criterion='gini', max_depth=4, max_features='auto',\n",
              "                       max_leaf_nodes=None, max_samples=None,\n",
              "                       min_impurity_decrease=0.0, min_impurity_split=None,\n",
              "                       min_samples_leaf=1, min_samples_split=2,\n",
              "                       min_weight_fraction_leaf=0.0, n_estimators=55,\n",
              "                       n_jobs=None, oob_score=False, random_state=None,\n",
              "                       verbose=0, warm_start=False)"
            ]
          },
          "execution_count": 39,
          "metadata": {
            "tags": []
          },
          "output_type": "execute_result"
        }
      ],
      "source": [
        "rf = RandomForestClassifier(criterion='gini', max_depth=4, max_features='auto', min_samples_leaf=1, min_samples_split=2, min_weight_fraction_leaf=0.0, n_estimators=55, random_state=None)\n",
        "rf.fit(x_train,y_train)"
      ]
    },
    {
      "cell_type": "code",
      "execution_count": 40,
      "metadata": {
        "colab": {
          "base_uri": "https://localhost:8080/",
          "height": 35
        },
        "id": "dLZpNOBK49PE",
        "outputId": "4c3d01e1-0ae9-4c69-f916-0151a60d5d77"
      },
      "outputs": [
        {
          "data": {
            "text/plain": [
              "0.8224755700325733"
            ]
          },
          "execution_count": 40,
          "metadata": {
            "tags": []
          },
          "output_type": "execute_result"
        }
      ],
      "source": [
        "rf.score(x_train, y_train)"
      ]
    },
    {
      "cell_type": "code",
      "execution_count": 41,
      "metadata": {
        "colab": {
          "base_uri": "https://localhost:8080/",
          "height": 109
        },
        "id": "LhQffL7b49PM",
        "outputId": "19c532a5-42fa-46e5-f13d-38c6b95c77a8",
        "tags": []
      },
      "outputs": [
        {
          "name": "stdout",
          "output_type": "stream",
          "text": [
            "[0 0 0 0 0 1 0 0 1 1 0 1 0 0 0 0 0 0 0 0 0 0 0 0 1 1 0 0 0 0 1 1 1 1 0 1 1\n",
            " 0 0 0 0 0 0 0 0 1 1 0 0 1 0 1 1 0 0 0 1 0 0 1 1 0 0 0 0 1 0 1 0 1 1 0 0 0\n",
            " 0 0 0 0 0 0 1 0 0 0 0 1 1 0 0 0 0 0 0 0 0 1 0 0 1 0 1 0 0 1 1 0 0 1 0 1 0\n",
            " 0 0 1 0 0 1 0 0 0 0 0 0 0 0 0 0 1 1 1 1 1 0 0 1 0 0 1 1 0 0 0 0 0 0 0 0 0\n",
            " 0 1 0 0 0 0]\n"
          ]
        }
      ],
      "source": [
        "pred1 = rf.predict(x_test)\n",
        "print(pred1)"
      ]
    },
    {
      "cell_type": "code",
      "execution_count": 42,
      "metadata": {
        "colab": {
          "base_uri": "https://localhost:8080/",
          "height": 35
        },
        "id": "uqIVlZSZ49PR",
        "outputId": "123312cd-7104-42d1-fc0e-c0c5296ea904",
        "tags": []
      },
      "outputs": [
        {
          "name": "stdout",
          "output_type": "stream",
          "text": [
            "82.24755700325733\n"
          ]
        }
      ],
      "source": [
        "score1 = rf.score(x_train,y_train) * 100\n",
        "print(score1)"
      ]
    },
    {
      "cell_type": "code",
      "execution_count": 43,
      "metadata": {
        "colab": {
          "base_uri": "https://localhost:8080/",
          "height": 72
        },
        "id": "eSSBoTLR49Pa",
        "outputId": "a5f6ca95-2dec-4bd0-b2aa-d23e3d489f27",
        "tags": []
      },
      "outputs": [
        {
          "name": "stdout",
          "output_type": "stream",
          "text": [
            "Confusion Matrix :\n",
            "[[86 13]\n",
            " [23 32]]\n"
          ]
        }
      ],
      "source": [
        "result = confusion_matrix(y_test, pred1)\n",
        "print ('Confusion Matrix :')\n",
        "print(result) "
      ]
    },
    {
      "cell_type": "code",
      "execution_count": 44,
      "metadata": {
        "colab": {
          "base_uri": "https://localhost:8080/",
          "height": 237
        },
        "id": "NZiu4O-R49Pf",
        "outputId": "3461f794-210d-4deb-99d7-649a04986d86",
        "tags": []
      },
      "outputs": [
        {
          "name": "stdout",
          "output_type": "stream",
          "text": [
            "Accuracy Score : 0.7662337662337663\n",
            "Report : \n",
            "Classification Report:\n",
            "               precision    recall  f1-score   support\n",
            "\n",
            "           0       0.79      0.87      0.83        99\n",
            "           1       0.71      0.58      0.64        55\n",
            "\n",
            "    accuracy                           0.77       154\n",
            "   macro avg       0.75      0.73      0.73       154\n",
            "weighted avg       0.76      0.77      0.76       154\n",
            "\n"
          ]
        }
      ],
      "source": [
        "print ('Accuracy Score :',accuracy_score(y_test, pred1)) \n",
        "print ('Report : ')\n",
        "print (\"Classification Report:\\n\",classification_report(y_test, pred1)) "
      ]
    },
    {
      "cell_type": "markdown",
      "metadata": {
        "id": "SY0Yazaw49Pk"
      },
      "source": [
        "## *Decision Tree*"
      ]
    },
    {
      "cell_type": "code",
      "execution_count": 45,
      "metadata": {
        "id": "Ssnqxgs549Pl"
      },
      "outputs": [],
      "source": [
        "from sklearn.tree import DecisionTreeClassifier"
      ]
    },
    {
      "cell_type": "code",
      "execution_count": 46,
      "metadata": {
        "colab": {
          "base_uri": "https://localhost:8080/",
          "height": 127
        },
        "id": "akWWpdQM49Pq",
        "outputId": "e6a8bc3d-4e13-4df3-a6f3-4c1da0fdca34"
      },
      "outputs": [
        {
          "data": {
            "text/plain": [
              "DecisionTreeClassifier(ccp_alpha=0.0, class_weight=None, criterion='gini',\n",
              "                       max_depth=3, max_features=None, max_leaf_nodes=None,\n",
              "                       min_impurity_decrease=0.0, min_impurity_split=None,\n",
              "                       min_samples_leaf=1, min_samples_split=2,\n",
              "                       min_weight_fraction_leaf=0.0, presort='deprecated',\n",
              "                       random_state=None, splitter='best')"
            ]
          },
          "execution_count": 46,
          "metadata": {
            "tags": []
          },
          "output_type": "execute_result"
        }
      ],
      "source": [
        "dt = DecisionTreeClassifier(criterion='gini', max_depth = 3, min_samples_split=2)\n",
        "dt.fit(x_train,y_train)"
      ]
    },
    {
      "cell_type": "code",
      "execution_count": 47,
      "metadata": {
        "colab": {
          "base_uri": "https://localhost:8080/",
          "height": 35
        },
        "id": "7KZSqeMl49Pw",
        "outputId": "2dd72894-a30f-429f-a2cf-57f84f97de75",
        "tags": []
      },
      "outputs": [
        {
          "name": "stdout",
          "output_type": "stream",
          "text": [
            "0.7768729641693811\n"
          ]
        }
      ],
      "source": [
        "print(dt.score(x_train,y_train))"
      ]
    },
    {
      "cell_type": "code",
      "execution_count": 48,
      "metadata": {
        "colab": {
          "base_uri": "https://localhost:8080/",
          "height": 146
        },
        "id": "IYBSAnRT49P2",
        "outputId": "2ff69597-3b55-4281-d22d-bf846fb42187"
      },
      "outputs": [
        {
          "data": {
            "text/plain": [
              "array([0, 0, 0, 0, 0, 0, 0, 0, 1, 1, 0, 1, 1, 0, 0, 0, 0, 0, 1, 1, 0, 0,\n",
              "       0, 0, 1, 1, 0, 0, 0, 0, 1, 1, 1, 1, 0, 1, 1, 0, 0, 1, 0, 0, 0, 0,\n",
              "       0, 1, 0, 0, 0, 1, 0, 1, 1, 0, 0, 0, 1, 0, 0, 1, 1, 0, 0, 0, 0, 1,\n",
              "       0, 1, 0, 1, 1, 0, 0, 0, 0, 0, 0, 0, 0, 0, 1, 0, 0, 1, 0, 1, 1, 0,\n",
              "       0, 0, 0, 0, 0, 0, 0, 1, 0, 0, 1, 0, 1, 0, 0, 1, 1, 0, 0, 1, 0, 0,\n",
              "       0, 1, 0, 1, 0, 0, 1, 0, 0, 0, 0, 0, 0, 0, 1, 0, 0, 1, 1, 1, 1, 1,\n",
              "       0, 0, 1, 0, 0, 1, 1, 0, 0, 0, 0, 1, 0, 0, 0, 0, 0, 1, 0, 0, 0, 0])"
            ]
          },
          "execution_count": 48,
          "metadata": {
            "tags": []
          },
          "output_type": "execute_result"
        }
      ],
      "source": [
        "pred2 = dt.predict(x_test)  \n",
        "pred2"
      ]
    },
    {
      "cell_type": "code",
      "execution_count": 49,
      "metadata": {
        "colab": {
          "base_uri": "https://localhost:8080/",
          "height": 35
        },
        "id": "Usq_xtBS49P-",
        "outputId": "df685e0e-dd6d-4079-b706-56d4431342ec"
      },
      "outputs": [
        {
          "data": {
            "text/plain": [
              "77.68729641693811"
            ]
          },
          "execution_count": 49,
          "metadata": {
            "tags": []
          },
          "output_type": "execute_result"
        }
      ],
      "source": [
        "score2 = dt.score(x_train,y_train) * 100\n",
        "score2"
      ]
    },
    {
      "cell_type": "code",
      "execution_count": 50,
      "metadata": {
        "colab": {
          "base_uri": "https://localhost:8080/",
          "height": 72
        },
        "id": "dwaKIAYO49QJ",
        "outputId": "0c9fc189-0633-483c-9d4d-cb26d2f845b3",
        "tags": []
      },
      "outputs": [
        {
          "name": "stdout",
          "output_type": "stream",
          "text": [
            "Confusion Matrix :\n",
            "[[83 16]\n",
            " [21 34]]\n"
          ]
        }
      ],
      "source": [
        "result2 = confusion_matrix(y_test, pred2)\n",
        "print ('Confusion Matrix :')\n",
        "print(result2) "
      ]
    },
    {
      "cell_type": "code",
      "execution_count": 51,
      "metadata": {
        "colab": {
          "base_uri": "https://localhost:8080/",
          "height": 237
        },
        "id": "sB-wjRxA49QO",
        "outputId": "eaf6f911-a1ad-4671-caa3-7cbf2618bf12",
        "tags": []
      },
      "outputs": [
        {
          "name": "stdout",
          "output_type": "stream",
          "text": [
            "Accuracy Score : 0.7597402597402597\n",
            "Report : \n",
            "Classification Report:\n",
            "               precision    recall  f1-score   support\n",
            "\n",
            "           0       0.80      0.84      0.82        99\n",
            "           1       0.68      0.62      0.65        55\n",
            "\n",
            "    accuracy                           0.76       154\n",
            "   macro avg       0.74      0.73      0.73       154\n",
            "weighted avg       0.76      0.76      0.76       154\n",
            "\n"
          ]
        }
      ],
      "source": [
        "print ('Accuracy Score :',accuracy_score(y_test, pred2)) \n",
        "print ('Report : ')\n",
        "print (\"Classification Report:\\n\",classification_report(y_test, pred2)) "
      ]
    },
    {
      "cell_type": "markdown",
      "metadata": {
        "id": "KIzsneZo49QT"
      },
      "source": [
        "## *SVM*"
      ]
    },
    {
      "cell_type": "code",
      "execution_count": 52,
      "metadata": {
        "colab": {
          "base_uri": "https://localhost:8080/",
          "height": 90
        },
        "id": "M69ZNcGO49QV",
        "outputId": "56e157d8-52cc-40f7-f8c4-ce6e6031974a"
      },
      "outputs": [
        {
          "data": {
            "text/plain": [
              "SVC(C=1.0, break_ties=False, cache_size=200, class_weight=None, coef0=0.0,\n",
              "    decision_function_shape='ovr', degree=3, gamma='scale', kernel='linear',\n",
              "    max_iter=-1, probability=False, random_state=None, shrinking=True,\n",
              "    tol=0.001, verbose=False)"
            ]
          },
          "execution_count": 52,
          "metadata": {
            "tags": []
          },
          "output_type": "execute_result"
        }
      ],
      "source": [
        "from sklearn.svm import SVC\n",
        "obj=SVC(kernel='linear')\n",
        "obj.fit(x_train,y_train)"
      ]
    },
    {
      "cell_type": "code",
      "execution_count": 53,
      "metadata": {
        "colab": {
          "base_uri": "https://localhost:8080/",
          "height": 35
        },
        "id": "OQ7I_tin49Qb",
        "outputId": "c986f58e-486e-4337-bd9d-0cc991f47b36",
        "tags": []
      },
      "outputs": [
        {
          "data": {
            "text/plain": [
              "77.19869706840392"
            ]
          },
          "execution_count": 53,
          "metadata": {
            "tags": []
          },
          "output_type": "execute_result"
        }
      ],
      "source": [
        "obj.score(x_train,y_train)*100"
      ]
    },
    {
      "cell_type": "code",
      "execution_count": 54,
      "metadata": {
        "colab": {
          "base_uri": "https://localhost:8080/",
          "height": 146
        },
        "id": "EZZO1_5_49Qf",
        "outputId": "5691fe48-e47d-4ddd-88bb-ad0fc6ce9a1f"
      },
      "outputs": [
        {
          "data": {
            "text/plain": [
              "array([0, 0, 0, 0, 0, 0, 0, 0, 1, 1, 0, 1, 1, 0, 0, 0, 0, 0, 1, 1, 0, 0,\n",
              "       0, 0, 1, 1, 0, 0, 0, 0, 1, 1, 1, 1, 0, 1, 1, 0, 0, 1, 0, 0, 0, 0,\n",
              "       0, 1, 0, 0, 0, 1, 0, 1, 1, 0, 0, 0, 1, 0, 0, 1, 1, 0, 0, 0, 0, 1,\n",
              "       0, 1, 0, 1, 1, 0, 0, 0, 0, 0, 0, 0, 0, 0, 1, 0, 0, 1, 0, 1, 1, 0,\n",
              "       0, 0, 0, 0, 0, 0, 0, 1, 0, 0, 1, 0, 1, 0, 0, 1, 1, 0, 0, 1, 0, 0,\n",
              "       0, 1, 0, 1, 0, 0, 1, 0, 0, 0, 0, 0, 0, 0, 1, 0, 0, 1, 1, 1, 1, 1,\n",
              "       0, 0, 1, 0, 0, 1, 1, 0, 0, 0, 0, 1, 0, 0, 0, 0, 0, 1, 0, 0, 0, 0])"
            ]
          },
          "execution_count": 54,
          "metadata": {
            "tags": []
          },
          "output_type": "execute_result"
        }
      ],
      "source": [
        "pred3 = dt.predict(x_test)  \n",
        "pred3"
      ]
    },
    {
      "cell_type": "code",
      "execution_count": 55,
      "metadata": {
        "colab": {
          "base_uri": "https://localhost:8080/",
          "height": 35
        },
        "id": "pQMMKnuP49Qs",
        "outputId": "76bb156e-b6e6-4c59-ea87-8e094cdde718"
      },
      "outputs": [
        {
          "data": {
            "text/plain": [
              "77.19869706840392"
            ]
          },
          "execution_count": 55,
          "metadata": {
            "tags": []
          },
          "output_type": "execute_result"
        }
      ],
      "source": [
        "score3 = obj.score(x_train,y_train) * 100\n",
        "score3"
      ]
    },
    {
      "cell_type": "code",
      "execution_count": 56,
      "metadata": {
        "colab": {
          "base_uri": "https://localhost:8080/",
          "height": 72
        },
        "id": "mOOuB7j249Qx",
        "outputId": "d0aa1f44-7505-4c6f-8512-e5080e6a2bbb",
        "tags": []
      },
      "outputs": [
        {
          "name": "stdout",
          "output_type": "stream",
          "text": [
            "Confusion Matrix :\n",
            "[[83 16]\n",
            " [21 34]]\n"
          ]
        }
      ],
      "source": [
        "result3 = confusion_matrix(y_test, pred3)\n",
        "print ('Confusion Matrix :')\n",
        "print(result3) "
      ]
    },
    {
      "cell_type": "code",
      "execution_count": 57,
      "metadata": {
        "colab": {
          "base_uri": "https://localhost:8080/",
          "height": 237
        },
        "id": "PcxqxzYY49Q1",
        "outputId": "e08809a9-baa0-4a42-d8d6-6a55e33274ac",
        "tags": []
      },
      "outputs": [
        {
          "name": "stdout",
          "output_type": "stream",
          "text": [
            "Accuracy Score : 0.7597402597402597\n",
            "Report : \n",
            "Classification Report:\n",
            "               precision    recall  f1-score   support\n",
            "\n",
            "           0       0.80      0.84      0.82        99\n",
            "           1       0.68      0.62      0.65        55\n",
            "\n",
            "    accuracy                           0.76       154\n",
            "   macro avg       0.74      0.73      0.73       154\n",
            "weighted avg       0.76      0.76      0.76       154\n",
            "\n"
          ]
        }
      ],
      "source": [
        "print ('Accuracy Score :',accuracy_score(y_test, pred3)) \n",
        "print ('Report : ')\n",
        "print (\"Classification Report:\\n\",classification_report(y_test, pred3)) "
      ]
    },
    {
      "cell_type": "markdown",
      "metadata": {
        "id": "GPOB6wWb49Q7"
      },
      "source": [
        "## *K-Means*"
      ]
    },
    {
      "cell_type": "code",
      "execution_count": 58,
      "metadata": {
        "id": "xmBWTcZT49Q8"
      },
      "outputs": [],
      "source": [
        "from sklearn.cluster import KMeans\n",
        "wcss = []\n",
        "for i in range(1, 11):\n",
        "    kmeans = KMeans(n_clusters = i, init = 'k-means++', random_state = 42)\n",
        "    kmeans.fit(x)\n",
        "    wcss.append(kmeans.inertia_)"
      ]
    },
    {
      "cell_type": "code",
      "execution_count": 59,
      "metadata": {
        "colab": {
          "base_uri": "https://localhost:8080/",
          "height": 393
        },
        "id": "O5EsAo_w49RB",
        "outputId": "1af36417-24cf-4b0d-d080-93463d124068"
      },
      "outputs": [
        {
          "name": "stderr",
          "output_type": "stream",
          "text": [
            "/usr/local/lib/python3.6/dist-packages/seaborn/_decorators.py:43: FutureWarning: Pass the following variables as keyword args: x, y. From version 0.12, the only valid positional argument will be `data`, and passing other arguments without an explicit keyword will result in an error or misinterpretation.\n",
            "  FutureWarning\n"
          ]
        },
        {
          "data": {
            "image/png": "[encoded data removed]",
            "text/plain": [
              "<Figure size 720x360 with 1 Axes>"
            ]
          },
          "metadata": {
            "needs_background": "light",
            "tags": []
          },
          "output_type": "display_data"
        }
      ],
      "source": [
        "plt.figure(figsize=(10,5))\n",
        "sns.lineplot(range(1, 11), wcss,marker='o',color='blue')\n",
        "plt.title('The Elbow Method')\n",
        "plt.ylabel('WCSS')\n",
        "plt.show()"
      ]
    },
    {
      "cell_type": "code",
      "execution_count": 60,
      "metadata": {
        "colab": {
          "base_uri": "https://localhost:8080/",
          "height": 72
        },
        "id": "atGpZGQF49RG",
        "outputId": "7ff1f0fb-a1c5-4689-d84a-035fdde0fef5"
      },
      "outputs": [
        {
          "data": {
            "text/plain": [
              "KMeans(algorithm='auto', copy_x=True, init='k-means++', max_iter=300,\n",
              "       n_clusters=3, n_init=10, n_jobs=None, precompute_distances='auto',\n",
              "       random_state=42, tol=0.0001, verbose=0)"
            ]
          },
          "execution_count": 60,
          "metadata": {
            "tags": []
          },
          "output_type": "execute_result"
        }
      ],
      "source": [
        "kmeans = KMeans(n_clusters=3,init = 'k-means++', random_state = 42)\n",
        "kmeans.fit(x)"
      ]
    },
    {
      "cell_type": "code",
      "execution_count": 61,
      "metadata": {
        "colab": {
          "base_uri": "https://localhost:8080/",
          "height": 678
        },
        "id": "12PVH2Tt49RN",
        "outputId": "b53ddc93-87d1-431a-b510-e891a21bedd3"
      },
      "outputs": [
        {
          "data": {
            "text/plain": [
              "array([2, 0, 2, 0, 1, 0, 0, 0, 1, 2, 0, 2, 2, 1, 2, 0, 1, 0, 0, 1, 1, 2,\n",
              "       2, 2, 2, 2, 2, 0, 2, 2, 2, 1, 0, 0, 2, 1, 2, 2, 0, 1, 1, 2, 2, 2,\n",
              "       2, 1, 0, 0, 2, 0, 0, 0, 0, 2, 1, 0, 1, 1, 1, 1, 0, 2, 0, 1, 2, 0,\n",
              "       1, 2, 0, 1, 0, 1, 2, 1, 0, 0, 2, 0, 0, 0, 0, 0, 2, 0, 2, 1, 2, 0,\n",
              "       2, 0, 0, 1, 2, 2, 0, 1, 0, 0, 0, 1, 1, 0, 0, 0, 0, 1, 0, 1, 0, 0,\n",
              "       1, 1, 0, 0, 1, 2, 2, 0, 0, 0, 1, 0, 0, 2, 0, 1, 1, 0, 1, 2, 1, 2,\n",
              "       1, 2, 0, 0, 0, 0, 0, 1, 2, 2, 0, 2, 1, 0, 2, 1, 2, 0, 1, 0, 2, 1,\n",
              "       2, 1, 0, 0, 0, 2, 2, 2, 1, 0, 0, 2, 0, 0, 0, 0, 2, 1, 0, 1, 0, 1,\n",
              "       2, 1, 2, 2, 0, 0, 0, 0, 2, 2, 1, 1, 1, 1, 0, 2, 2, 2, 2, 1, 0, 0,\n",
              "       1, 1, 0, 0, 0, 0, 2, 0, 2, 2, 0, 2, 0, 1, 2, 1, 2, 1, 1, 1, 0, 2,\n",
              "       1, 2, 0, 2, 0, 0, 0, 1, 1, 1, 0, 1, 0, 0, 0, 2, 2, 1, 2, 0, 0, 0,\n",
              "       0, 1, 1, 2, 2, 1, 1, 0, 2, 0, 0, 0, 2, 0, 0, 0, 1, 2, 1, 0, 0, 2,\n",
              "       0, 2, 0, 1, 0, 0, 2, 0, 0, 0, 2, 1, 0, 0, 2, 0, 0, 2, 2, 2, 2, 2,\n",
              "       1, 1, 0, 1, 0, 1, 1, 1, 2, 1, 1, 1, 2, 2, 0, 1, 0, 2, 0, 1, 2, 0,\n",
              "       1, 1, 0, 1, 0, 0, 2, 0, 0, 0, 1, 2, 0, 0, 0, 2, 0, 0, 1, 2, 1, 2,\n",
              "       2, 0, 0, 2, 0, 1, 0, 2, 1, 2, 0, 0, 0, 2, 2, 2, 0, 0, 0, 0, 0, 0,\n",
              "       0, 0, 0, 2, 1, 2, 2, 1, 1, 2, 2, 2, 1, 0, 0, 0, 0, 1, 1, 0, 0, 0,\n",
              "       1, 2, 0, 0, 2, 1, 0, 0, 0, 0, 0, 0, 2, 2, 2, 0, 1, 2, 1, 0, 2, 1,\n",
              "       0, 0, 0, 1, 0, 2, 1, 2, 2, 1, 2, 0, 2, 1, 1, 1, 1, 0, 1, 1, 0, 1,\n",
              "       0, 0, 1, 0, 1, 0, 1, 1, 0, 1, 1, 1, 0, 0, 0, 0, 0, 0, 2, 0, 0, 2,\n",
              "       1, 0, 0, 2, 0, 1, 0, 1, 0, 0, 0, 0, 1, 2, 0, 2, 2, 0, 1, 2, 2, 0,\n",
              "       2, 0, 2, 0, 0, 1, 0, 1, 1, 0, 0, 2, 0, 2, 1, 0, 2, 2, 1, 1, 0, 0,\n",
              "       0, 1, 1, 1, 0, 2, 0, 0, 0, 2, 0, 2, 0, 0, 2, 1, 0, 0, 0, 2, 0, 2,\n",
              "       1, 1, 0, 2, 2, 0, 2, 0, 0, 1, 2, 2, 2, 2, 0, 1, 0, 2, 0, 0, 0, 0,\n",
              "       1, 0, 0, 0, 1, 0, 0, 0, 0, 0, 1, 1, 1, 1, 2, 0, 0, 1, 1, 1, 1, 2,\n",
              "       0, 0, 2, 0, 0, 1, 0, 2, 2, 2, 2, 1, 0, 0, 0, 0, 0, 2, 1, 1, 0, 0,\n",
              "       0, 0, 1, 1, 0, 0, 2, 1, 1, 0, 2, 2, 1, 0, 2, 0, 1, 0, 2, 1, 2, 0,\n",
              "       1, 1, 0, 0, 2, 0, 0, 0, 0, 2, 0, 0, 1, 0, 1, 0, 0, 1, 1, 0, 2, 0,\n",
              "       2, 0, 2, 0, 1, 0, 2, 1, 0, 1, 0, 0, 2, 0, 2, 1, 0, 0, 2, 2, 2, 0,\n",
              "       1, 0, 0, 0, 2, 0, 1, 1, 1, 1, 2, 0, 0, 0, 1, 0, 0, 1, 0, 1, 2, 1,\n",
              "       2, 1, 1, 1, 2, 1, 2, 2, 1, 2, 2, 0, 2, 1, 2, 2, 2, 0, 0, 0, 0, 1,\n",
              "       1, 0, 2, 1, 0, 0, 1, 1, 2, 2, 1, 1, 0, 1, 1, 0, 1, 0, 1, 2, 2, 0,\n",
              "       0, 0, 0, 1, 2, 1, 1, 2, 2, 1, 0, 1, 1, 2, 1, 2, 0, 1, 1, 2, 2, 1,\n",
              "       1, 0, 0, 0, 0, 0, 1, 0, 2, 0, 1, 2, 0, 0, 2, 0, 0, 2, 2, 2, 1, 1,\n",
              "       1, 2, 0, 1, 0, 1, 2, 1, 2, 2, 0, 2, 0, 2, 0, 2, 0, 0, 0, 0],\n",
              "      dtype=int32)"
            ]
          },
          "execution_count": 61,
          "metadata": {
            "tags": []
          },
          "output_type": "execute_result"
        }
      ],
      "source": [
        "y_kmeans = kmeans.fit_predict(x)\n",
        "y_kmeans"
      ]
    },
    {
      "cell_type": "code",
      "execution_count": 62,
      "metadata": {
        "colab": {
          "base_uri": "https://localhost:8080/",
          "height": 35
        },
        "id": "m4GovSIc49RS",
        "outputId": "7627c9b7-d4fc-4d98-b21f-6a6a1baaadd8"
      },
      "outputs": [
        {
          "data": {
            "text/plain": [
              "51.692708333333336"
            ]
          },
          "execution_count": 62,
          "metadata": {
            "tags": []
          },
          "output_type": "execute_result"
        }
      ],
      "source": [
        "score4 = metrics.accuracy_score(y,y_kmeans)*100\n",
        "score4"
      ]
    },
    {
      "cell_type": "code",
      "execution_count": 63,
      "metadata": {
        "colab": {
          "base_uri": "https://localhost:8080/",
          "height": 72
        },
        "id": "o5yLCyD-49RX",
        "outputId": "4a8a65d0-1baa-4708-b14a-7f111a0502c9"
      },
      "outputs": [
        {
          "data": {
            "text/plain": [
              "array([[287, 106, 107],\n",
              "       [ 50, 110, 108],\n",
              "       [  0,   0,   0]])"
            ]
          },
          "execution_count": 63,
          "metadata": {
            "tags": []
          },
          "output_type": "execute_result"
        }
      ],
      "source": [
        "confusion_matrix(y, y_kmeans)"
      ]
    },
    {
      "cell_type": "code",
      "execution_count": 64,
      "metadata": {
        "colab": {
          "base_uri": "https://localhost:8080/",
          "height": 313
        },
        "id": "OJ6CdFEt49Rb",
        "outputId": "c0e5619c-a28d-4e8d-c2de-73343cfba137",
        "tags": []
      },
      "outputs": [
        {
          "name": "stdout",
          "output_type": "stream",
          "text": [
            "Accuracy Score : 0.5169270833333334\n",
            "Report : \n",
            "Classification Report:\n",
            "               precision    recall  f1-score   support\n",
            "\n",
            "           0       0.85      0.57      0.69       500\n",
            "           1       0.51      0.41      0.45       268\n",
            "           2       0.00      0.00      0.00         0\n",
            "\n",
            "    accuracy                           0.52       768\n",
            "   macro avg       0.45      0.33      0.38       768\n",
            "weighted avg       0.73      0.52      0.61       768\n",
            "\n"
          ]
        },
        {
          "name": "stderr",
          "output_type": "stream",
          "text": [
            "/usr/local/lib/python3.6/dist-packages/sklearn/metrics/_classification.py:1272: UndefinedMetricWarning: Recall and F-score are ill-defined and being set to 0.0 in labels with no true samples. Use `zero_division` parameter to control this behavior.\n",
            "  _warn_prf(average, modifier, msg_start, len(result))\n"
          ]
        }
      ],
      "source": [
        "print ('Accuracy Score :',accuracy_score(y, y_kmeans)) \n",
        "print ('Report : ')\n",
        "print (\"Classification Report:\\n\",classification_report(y, y_kmeans)) "
      ]
    },
    {
      "cell_type": "markdown",
      "metadata": {
        "id": "pIA7u4t849Re"
      },
      "source": [
        "## *KNN*"
      ]
    },
    {
      "cell_type": "code",
      "execution_count": 65,
      "metadata": {
        "id": "zeutNicJ49Rf"
      },
      "outputs": [],
      "source": [
        "from sklearn.neighbors import KNeighborsClassifier"
      ]
    },
    {
      "cell_type": "code",
      "execution_count": 66,
      "metadata": {
        "colab": {
          "base_uri": "https://localhost:8080/",
          "height": 72
        },
        "id": "SRbNIh8X49Rj",
        "outputId": "d263927e-2be9-4640-dfac-01643b48ffd1"
      },
      "outputs": [
        {
          "data": {
            "text/plain": [
              "KNeighborsClassifier(algorithm='auto', leaf_size=30, metric='minkowski',\n",
              "                     metric_params=None, n_jobs=None, n_neighbors=10, p=2,\n",
              "                     weights='uniform')"
            ]
          },
          "execution_count": 66,
          "metadata": {
            "tags": []
          },
          "output_type": "execute_result"
        }
      ],
      "source": [
        "knn = KNeighborsClassifier(n_neighbors=10)\n",
        "knn.fit(x_train,y_train)"
      ]
    },
    {
      "cell_type": "code",
      "execution_count": 67,
      "metadata": {
        "colab": {
          "base_uri": "https://localhost:8080/",
          "height": 146
        },
        "id": "M-LW6p_W49Rm",
        "outputId": "b835005b-c390-4833-bf57-580784c20142"
      },
      "outputs": [
        {
          "data": {
            "text/plain": [
              "array([0, 0, 0, 1, 1, 0, 0, 1, 0, 1, 0, 1, 0, 1, 0, 0, 0, 0, 1, 0, 1, 0,\n",
              "       0, 0, 0, 1, 0, 0, 0, 0, 1, 0, 1, 1, 1, 1, 1, 0, 0, 1, 0, 1, 1, 0,\n",
              "       0, 0, 1, 0, 0, 1, 0, 0, 1, 0, 0, 0, 1, 0, 0, 1, 0, 0, 1, 0, 0, 0,\n",
              "       0, 1, 0, 1, 1, 0, 0, 0, 0, 0, 1, 0, 0, 0, 0, 0, 0, 0, 0, 1, 1, 0,\n",
              "       0, 0, 0, 0, 0, 0, 0, 1, 1, 0, 1, 0, 1, 0, 0, 0, 0, 0, 0, 1, 0, 1,\n",
              "       0, 0, 0, 1, 0, 0, 0, 0, 0, 0, 0, 0, 0, 0, 0, 0, 0, 1, 1, 1, 1, 1,\n",
              "       0, 0, 0, 0, 0, 1, 0, 0, 0, 0, 0, 0, 0, 0, 0, 0, 0, 1, 0, 0, 0, 0])"
            ]
          },
          "execution_count": 67,
          "metadata": {
            "tags": []
          },
          "output_type": "execute_result"
        }
      ],
      "source": [
        "pred5 = knn.predict(x_test)\n",
        "pred5"
      ]
    },
    {
      "cell_type": "code",
      "execution_count": 68,
      "metadata": {
        "colab": {
          "base_uri": "https://localhost:8080/",
          "height": 35
        },
        "id": "p7JSA0Wd49Rr",
        "outputId": "16dd8aa9-534f-47fa-d810-596b0b289052"
      },
      "outputs": [
        {
          "data": {
            "text/plain": [
              "68.18181818181817"
            ]
          },
          "execution_count": 68,
          "metadata": {
            "tags": []
          },
          "output_type": "execute_result"
        }
      ],
      "source": [
        "score5 = metrics.accuracy_score(y_test,pred5)*100\n",
        "score5"
      ]
    },
    {
      "cell_type": "code",
      "execution_count": 69,
      "metadata": {
        "colab": {
          "base_uri": "https://localhost:8080/",
          "height": 54
        },
        "id": "moqzQGp849Rw",
        "outputId": "70f99bad-a695-4406-9af6-53d20297267e"
      },
      "outputs": [
        {
          "data": {
            "text/plain": [
              "array([[80, 19],\n",
              "       [30, 25]])"
            ]
          },
          "execution_count": 69,
          "metadata": {
            "tags": []
          },
          "output_type": "execute_result"
        }
      ],
      "source": [
        "confusion_matrix(y_test, pred5)"
      ]
    },
    {
      "cell_type": "code",
      "execution_count": 70,
      "metadata": {
        "colab": {
          "base_uri": "https://localhost:8080/",
          "height": 237
        },
        "id": "jBWrHXEV49Rz",
        "outputId": "2e186f55-5f98-45d1-b6e5-f1bc764bff70",
        "tags": []
      },
      "outputs": [
        {
          "name": "stdout",
          "output_type": "stream",
          "text": [
            "Accuracy Score : 0.6818181818181818\n",
            "Report : \n",
            "Classification Report:\n",
            "               precision    recall  f1-score   support\n",
            "\n",
            "           0       0.73      0.81      0.77        99\n",
            "           1       0.57      0.45      0.51        55\n",
            "\n",
            "    accuracy                           0.68       154\n",
            "   macro avg       0.65      0.63      0.64       154\n",
            "weighted avg       0.67      0.68      0.67       154\n",
            "\n"
          ]
        }
      ],
      "source": [
        "print ('Accuracy Score :',accuracy_score(y_test, pred5)) \n",
        "print ('Report : ')\n",
        "print (\"Classification Report:\\n\",classification_report(y_test, pred5)) "
      ]
    },
    {
      "cell_type": "code",
      "execution_count": 71,
      "metadata": {
        "colab": {
          "base_uri": "https://localhost:8080/",
          "height": 283
        },
        "id": "FoXwxfvA49R6",
        "outputId": "9fd1ab9a-858b-44dd-e206-2359a3fe0ffc"
      },
      "outputs": [
        {
          "data": {
            "text/plain": [
              "<BarContainer object of 5 artists>"
            ]
          },
          "execution_count": 71,
          "metadata": {
            "tags": []
          },
          "output_type": "execute_result"
        },
        {
          "data": {
            "image/png": "[encoded data removed]",
            "text/plain": [
              "<Figure size 432x288 with 1 Axes>"
            ]
          },
          "metadata": {
            "needs_background": "light",
            "tags": []
          },
          "output_type": "display_data"
        }
      ],
      "source": [
        "algo = ['RF','DT','SVM','kmean','KNN'] \n",
        "accuracy = [score1,score2,score3,score4,score5] \n",
        "plt.bar(algo,accuracy)"
      ]
    },
    {
      "cell_type": "markdown",
      "metadata": {
        "id": "jK37hGwqJvCp"
      },
      "source": [
        "## **Frequently Asked Questions**\n",
        "\n",
        "Q1. What do you think are the criteria to say whether a developed data model is good or not?\n",
        "\n",
        "Ans- Below are a few criteria which I think are a must to be considered to decide whether a developed data model is good or not:\n",
        "\n",
        "1. A model developed for the dataset should have predictable performance. This is required to predict the future.\n",
        "\n",
        "2. A model is said to be a good model if it can easily adapt to changes according to business requirements.\n",
        "    \n",
        "3. If the data gets changed, the model should be able to scale according to the data.\n",
        "\n",
        "4. The model developed should also be able to easily consumed by the clients for actionable and profitable results.\n",
        "\n",
        "Q2.  When do you think you should retrain a model? Is it dependent on the data?\n",
        "\n",
        "Ans- Business data keeps changing on a day-to-day basis, but the format doesn’t change. As and when a business operation enters a new market, sees a sudden rise of opposition or sees its own position rising or falling, it is recommended to retrain the model. So, as and when the business dynamics change, it is recommended to retrain the model with the changing behaviors of customers.\n",
        "\n",
        "Q3. Why should we use Random Forest Algorithm?\n",
        "\n",
        "Ans- There are a lot of benefits to using Random Forest Algorithm, but one of the main advantages is that it reduces the risk of overfitting and the required training time. Additionally, it offers a high level of accuracy. Random Forest algorithm runs efficiently in large databases and produces highly accurate predictions by estimating missing data.\n",
        "\n"
      ]
    },
    {
      "cell_type": "code",
      "execution_count": 71,
      "metadata": {
        "id": "yiDpFmJB49R-"
      },
      "outputs": [],
      "source": []
    }
  ],
  "metadata": {
    "colab": {
      "collapsed_sections": [],
      "name": "2173099_BDA_Lassign2 .ipynb",
      "provenance": [],
      "toc_visible": true
    },
    "kernelspec": {
      "display_name": "Python 3.7.9 64-bit ('Visual': conda)",
      "metadata": {
        "interpreter": {
          "hash": "29defeb446cdfba85587d26263dc15f5e5d895d8cc55e4466dcc0e52204aaaf9"
        }
      },
      "name": "Python 3.7.9 64-bit ('Visual': conda)"
    },
    "language_info": {
      "codemirror_mode": {
        "name": "ipython",
        "version": 3
      },
      "file_extension": ".py",
      "mimetype": "text/x-python",
      "name": "python",
      "nbconvert_exporter": "python",
      "pygments_lexer": "ipython3",
      "version": "3.7.9-final"
    },
    "orig_nbformat": 2
  },
  "nbformat": 4,
  "nbformat_minor": 0
}
